{
 "cells": [
  {
   "cell_type": "code",
   "execution_count": 1,
   "id": "885dc10d",
   "metadata": {},
   "outputs": [],
   "source": [
    "import numpy as np\n",
    "\n",
    "def cfa(data, lam, step=0.01, max_iter=5000, rdd=3):\n",
    "    s, var_e, phi = np.cov(data, rowvar=False, bias=True), np.eye(lam.shape[0]), np.eye(lam.shape[1])\n",
    "    for i in range(max_iter):\n",
    "        sigma = np.dot(np.dot(lam, phi), lam.transpose()) + var_e\n",
    "        sigma_inv = np.linalg.inv(sigma)\n",
    "        omega = sigma_inv - np.dot(sigma_inv, np.dot(s, sigma_inv))\n",
    "        omega_lam = np.dot(omega, lam)\n",
    "        dlam, dphi, dvar_e = 2 * np.dot(omega_lam, phi), np.dot(lam.transpose(), omega_lam), omega\n",
    "        dlam[lam == 0], dphi[range(lam.shape[1]), range(lam.shape[1])], dvar_e[var_e == 0] = 0, 0, 0\n",
    "        lam, phi, var_e = lam - step * dlam, phi - step * dphi, var_e - step * dvar_e\n",
    "    return np.round(lam, rdd), np.round(phi, rdd), np.round(var_e, rdd)\n",
    "\n",
    "#data是數據樣本\n",
    "#lan是lamda,表示因子載荷的初值\n"
   ]
  },
  {
   "cell_type": "code",
   "execution_count": null,
   "id": "15fc2b76",
   "metadata": {},
   "outputs": [],
   "source": []
  }
 ],
 "metadata": {
  "kernelspec": {
   "display_name": "Python 3",
   "language": "python",
   "name": "python3"
  },
  "language_info": {
   "codemirror_mode": {
    "name": "ipython",
    "version": 3
   },
   "file_extension": ".py",
   "mimetype": "text/x-python",
   "name": "python",
   "nbconvert_exporter": "python",
   "pygments_lexer": "ipython3",
   "version": "3.8.8"
  }
 },
 "nbformat": 4,
 "nbformat_minor": 5
}
