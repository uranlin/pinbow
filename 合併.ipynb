{
 "cells": [
  {
   "cell_type": "code",
   "execution_count": null,
   "id": "f5a798f2",
   "metadata": {},
   "outputs": [],
   "source": [
    "import pandas as pd\n",
    "from glob import glob\n",
    "import numpy as np\n",
    " \n",
    "files = glob('./data/*.csv')\n",
    "print(files)\n",
    "\n",
    "df = pd.concat(\n",
    "    (pd.read_csv(file,encoding='utf-16', na_values='NaN', keep_default_na=False) for file in files), ignore_index=True).iloc[:, [0,1,5,6,7,8,10,11,12,14,16,17]]\n",
    " \n",
    "\n",
    "que_y = df[\"que_validity\"] == \"Y\"\n",
    "que_n = df[\"que_validity\"] == \"N\"\n",
    "df = df[(que_y | que_n)]\n",
    "\n",
    "df = df.pivot(index=['yms_year','yms_smester','emp_id','emp_name','assistant_id','assistant_name','exe_type','respondent_code','que_sub','que_validity'], columns='que_no', values='exe_results')\n",
    "df = df.fillna(value=\"\")\n",
    "\n",
    "df.to_csv('excel_output.csv', encoding = 'utf_8_sig')\n",
    "\n",
    "df2 = pd.read_csv('./excel_output.csv',encoding='utf-8', na_values='NaN', keep_default_na=False)\n",
    "\n",
    "df3 = df2['que_sub'].str.slice(-5,-1)\n",
    "#df3 = df.astype('str')\n",
    "df2.insert(9,\"選課代號\",df3)\n",
    "\n",
    "df_type1 = df2[\"exe_type\"] == 1\n",
    "df2type1 = df2[(df_type1)]\n",
    "\n",
    "df_type2 = df2[\"exe_type\"] == 2\n",
    "df2type2 = df2[(df_type2)]\n",
    "\n",
    "df_type3 = df2[\"exe_type\"] == 3\n",
    "df2type3 = df2[(df_type3)]\n",
    "\n",
    "df_type4 = df2[\"exe_type\"] == 4\n",
    "df2type4 = df2[(df_type4)]\n",
    "\n",
    "df2type1[['17','18']] = df2type1[['17','18']].astype('int')\n",
    "df2type2[['17','18','19','20','21','22','23','24','25','26','27','28','29']] = df2type2[['17','18','19','20','21','22','23','24','25','26','27','28','29']].astype('int')\n",
    "df2type3[['17','18','19','20','21','22']] = df2type3[['17','18','19','20','21','22']].astype('int')\n",
    "\n",
    "df2type1.iloc[:, 11:29] = df2type1.iloc[:, 11:29].replace([1, 2, 3, 4, 5], [5, 4, 3, 2, 1])\n",
    "df2type2.iloc[:, 11:40] = df2type2.iloc[:, 11:40].replace([1, 2, 3, 4, 5], [5, 4, 3, 2, 1])\n",
    "df2type3.iloc[:, 11:33] = df2type3.iloc[:, 11:33].replace([1, 2, 3, 4, 5], [5, 4, 3, 2, 1])\n",
    "df2type4.iloc[:, 11:27] = df2type4.iloc[:, 11:27].replace([1, 2, 3, 4, 5], [5, 4, 3, 2, 1])\n",
    "\n",
    "df2type2.to_excel('excel_output_type2.xlsx', encoding = 'utf_8_sig', index=False)\n",
    "df2type3.to_excel('excel_output_type3.xlsx', encoding = 'utf_8_sig', index=False)\n",
    "df2type4.to_excel('excel_output_type4.xlsx', encoding = 'utf_8_sig', index=False)\n",
    "df2type1.to_excel('excel_output_type1.xlsx', encoding = 'utf_8_sig', index=False)"
   ]
  }
 ],
 "metadata": {
  "kernelspec": {
   "display_name": "Python 3",
   "language": "python",
   "name": "python3"
  },
  "language_info": {
   "codemirror_mode": {
    "name": "ipython",
    "version": 3
   },
   "file_extension": ".py",
   "mimetype": "text/x-python",
   "name": "python",
   "nbconvert_exporter": "python",
   "pygments_lexer": "ipython3",
   "version": "3.8.8"
  }
 },
 "nbformat": 4,
 "nbformat_minor": 5
}
