{
 "cells": [
  {
   "cell_type": "code",
   "execution_count": 3,
   "id": "2eb56e3a",
   "metadata": {},
   "outputs": [
    {
     "name": "stdout",
     "output_type": "stream",
     "text": [
      "['./data\\\\不動產管理學程.CSV', './data\\\\中文系.CSV', './data\\\\人文社會學士學位學程.CSV', './data\\\\人社學院.CSV', './data\\\\企管系.CSV', './data\\\\光電系.CSV', './data\\\\全校國際生大一不分系學士班.CSV', './data\\\\公共事務與社會創新研究所.CSV', './data\\\\再生能源與永續社會學程.CSV', './data\\\\創新設計學士學位學程.CSV', './data\\\\創能學院.CSV', './data\\\\勞工安全衛生學程.CSV', './data\\\\化工系.CSV', './data\\\\合作經濟暨社會事業經營學系.CSV', './data\\\\商學博士學位學程.CSV', './data\\\\商學大數據分析雙學士學位學.CSV', './data\\\\商學專業碩士在職學位學程.CSV', './data\\\\商學進修學士學位學程.CSV', './data\\\\商學院.CSV', './data\\\\國文綜合班.CSV', './data\\\\國際經營與貿易學系.CSV', './data\\\\土木系.CSV', './data\\\\土水博士學位學程.CSV', './data\\\\土管系.CSV', './data\\\\外文系.CSV', './data\\\\外語文選修.CSV', './data\\\\室內設計學士學位學程.CSV', './data\\\\室內設計進修學士班.CSV', './data\\\\專案管理學程.CSV', './data\\\\專案管理碩士在職學位學程.CSV', './data\\\\工工系.CSV', './data\\\\工程與科學學院.CSV', './data\\\\建築學士學位學程.CSV', './data\\\\建築專業學院.CSV', './data\\\\建築專業學院學士班.CSV', './data\\\\建築碩士學位學程.CSV', './data\\\\建設碩士在職學位學程.CSV', './data\\\\應數系.CSV', './data\\\\成衣菁英學程.CSV', './data\\\\文化創意學分學程.CSV', './data\\\\景觀與遊憩管理學程.CSV', './data\\\\智慧城市國際碩士學位學程.CSV', './data\\\\智能製造與工程管理碩士在職.CSV', './data\\\\智能鞋業學分學程.CSV', './data\\\\會計系.CSV', './data\\\\材料系.CSV', './data\\\\核心必修綜合班.CSV', './data\\\\機電系.CSV', './data\\\\歷史文物所.CSV', './data\\\\水利系.CSV', './data\\\\水土環境經理學程.CSV', './data\\\\法律經濟學程.CSV', './data\\\\流體傳動科技學程.CSV', './data\\\\澳洲墨爾本皇家理工大學商學.CSV', './data\\\\營建工程與管理進修學士班.CSV', './data\\\\物聯網學程.CSV', './data\\\\環科系.CSV', './data\\\\生醫碩士學位學程.CSV', './data\\\\產業碩士專班.CSV', './data\\\\社會傳播學程.CSV', './data\\\\科技管理碩士學位學程.CSV', './data\\\\精密系統設計學位學程.CSV', './data\\\\統計系.CSV', './data\\\\經濟系.CSV', './data\\\\經營管理碩士在職學位學程.CSV', './data\\\\綜合班.CSV', './data\\\\綠能碩士學位學程.CSV', './data\\\\纖維複材系.CSV', './data\\\\美國加州聖荷西州立大學工程.CSV', './data\\\\美國加州舊金山州立大學資訊.CSV', './data\\\\自控系.CSV', './data\\\\航太系.CSV', './data\\\\英文綜合班.CSV', './data\\\\英語選修.CSV', './data\\\\華語教師學程.CSV', './data\\\\行銷系.CSV', './data\\\\計算科學學程.CSV', './data\\\\設計未來學程.CSV', './data\\\\財務工程與精算學程.CSV', './data\\\\財法所.CSV', './data\\\\財稅系.CSV', './data\\\\財金系.CSV', './data\\\\資訊系.CSV', './data\\\\資訊電機學院學士班.CSV', './data\\\\資訊電機工程碩士在職學位學.CSV', './data\\\\資通安全學程.CSV', './data\\\\資電學院.CSV', './data\\\\軍訓.CSV', './data\\\\通訊系.CSV', './data\\\\通識核心.CSV', './data\\\\運輸與物流學系.CSV', './data\\\\都資系.CSV', './data\\\\金融博士學位學程.CSV', './data\\\\金融學院.CSV', './data\\\\金融碩士在職學位學程.CSV', './data\\\\電子系.CSV', './data\\\\電機系.CSV', './data\\\\電機資訊雙學士學位學程.CSV', './data\\\\電聲碩士學位學程.CSV', './data\\\\電通博士學位學程.CSV', './data\\\\風保系.CSV', './data\\\\飛機製造學分學程.CSV', './data\\\\體育選項課.CSV']\n"
     ]
    },
    {
     "name": "stderr",
     "output_type": "stream",
     "text": [
      "<ipython-input-3-252340c80afd>:8: DtypeWarning: Columns (3) have mixed types.Specify dtype option on import or set low_memory=False.\n",
      "  df = pd.concat(\n"
     ]
    }
   ],
   "source": [
    "import pandas as pd\n",
    "from glob import glob\n",
    "import numpy as np\n",
    " \n",
    "files = glob('./data/*.csv')\n",
    "print(files)\n",
    "\n",
    "df = pd.concat(\n",
    "    (pd.read_csv(file,encoding='utf-16', na_values='NaN', keep_default_na=False) for file in files), ignore_index=True).iloc[:, [0,1,5,6,7,8,10,11,12,14,16,17]]\n",
    " \n",
    "\n",
    "que_y = df[\"que_validity\"] != \"Y\"\n",
    "que_n = df[\"que_validity\"] != \"N\"\n",
    "df = df[(que_y & que_n)]\n",
    "\n",
    "df = df.pivot(index=['yms_year','yms_smester','emp_id','emp_name','assistant_id','assistant_name','exe_type','respondent_code','que_sub','que_validity'], columns='que_no', values='exe_results')\n",
    "df = df.fillna(value=\"\")\n",
    "\n",
    "df.to_csv('excel_notYN_output.csv', encoding = 'utf_8_sig')\n",
    "\n",
    "df2 = pd.read_csv('./excel_notYN_output.csv',encoding='utf-8', na_values='NaN', keep_default_na=False)\n",
    "\n",
    "df3 = df2['que_sub'].str.slice(-5,-1)\n",
    "#df3 = df.astype('str')\n",
    "df2.insert(9,\"選課代號\",df3)\n",
    "\n",
    "df2.to_excel('excel_output_noYN.xlsx', encoding = 'utf_8_sig', index=False)\n",
    "\n",
    "#填答率\n",
    "df2 = pd.read_csv('./excel_notYN_output.csv',encoding='utf-8', na_values='NaN')\n",
    "df_sort = df2.count().reset_index()\n",
    "df_sort = df_sort.rename(columns={'index':'題目', 0:'填答'})\n",
    "df_sort = df_sort.drop([0,1,2,3,4,5,6,7,8,9])\n",
    "df_sort = df_sort.sort_values(by=['填答'], ascending=False)\n",
    "df_sort.to_excel('excel_output_sort_noYN.xlsx', encoding = 'utf_8_sig',index=False)"
   ]
  },
  {
   "cell_type": "code",
   "execution_count": null,
   "id": "462e36d4",
   "metadata": {},
   "outputs": [],
   "source": []
  }
 ],
 "metadata": {
  "kernelspec": {
   "display_name": "Python 3",
   "language": "python",
   "name": "python3"
  },
  "language_info": {
   "codemirror_mode": {
    "name": "ipython",
    "version": 3
   },
   "file_extension": ".py",
   "mimetype": "text/x-python",
   "name": "python",
   "nbconvert_exporter": "python",
   "pygments_lexer": "ipython3",
   "version": "3.8.8"
  }
 },
 "nbformat": 4,
 "nbformat_minor": 5
}
